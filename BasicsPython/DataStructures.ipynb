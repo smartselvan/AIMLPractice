{
 "cells": [
  {
   "cell_type": "markdown",
   "id": "439fd526-b278-4125-b00b-d18416378632",
   "metadata": {},
   "source": [
    "## Lists"
   ]
  },
  {
   "cell_type": "code",
   "execution_count": 1,
   "id": "4165ab49-c2c8-4616-8b70-93df477fd008",
   "metadata": {},
   "outputs": [
    {
     "data": {
      "text/plain": [
       "['This', 'is', 'a', 'list', 'of', 5, 'numbers', 1, 2, 3, 4, 5]"
      ]
     },
     "execution_count": 1,
     "metadata": {},
     "output_type": "execute_result"
    }
   ],
   "source": [
    "list1 = ['This', 'is', 'a', 'list', 'of', 5, 'numbers', 1, 2, 3, 4, 5] # ordered sequence of mixed data type\n",
    "list1"
   ]
  },
  {
   "cell_type": "code",
   "execution_count": 2,
   "id": "6adbcfd9-f2b2-45c6-98fc-9162a3999ceb",
   "metadata": {},
   "outputs": [
    {
     "name": "stdout",
     "output_type": "stream",
     "text": [
      "This\n",
      "['is', 'a']\n"
     ]
    }
   ],
   "source": [
    "#indexing and slicing\n",
    "print(list1[0])\n",
    "print(list1[1:3])"
   ]
  },
  {
   "cell_type": "code",
   "execution_count": 3,
   "id": "5a58d52e-e6ce-4f84-8723-e37cc19b7e04",
   "metadata": {},
   "outputs": [
    {
     "data": {
      "text/plain": [
       "['This', 'is', 'a', 'list', 'of', 5, 'mixed data', 1, 2, 3, 4, 5]"
      ]
     },
     "execution_count": 3,
     "metadata": {},
     "output_type": "execute_result"
    }
   ],
   "source": [
    "list1[6] = 'mixed data' #mutable(updatable) \n",
    "list1"
   ]
  },
  {
   "cell_type": "code",
   "execution_count": 4,
   "id": "ea51ae4d-5284-4ff5-bb4f-04a3b17c55b7",
   "metadata": {},
   "outputs": [
    {
     "name": "stdout",
     "output_type": "stream",
     "text": [
      "['This', 'is', 'a', 'list', 'of', 5, 'numbers', 1, 2, 3, 4, 5]\n",
      "['This', 'is', 'a', 'list', 'of', 5, 'mixed data', 1, 2, 3, 4, 5]\n"
     ]
    }
   ],
   "source": [
    "#shallow copy\n",
    "s_copy = list1[:] #list[0:-1]\n",
    "s_copy[6] = 'numbers'\n",
    "print(s_copy)\n",
    "print(list1)"
   ]
  },
  {
   "cell_type": "code",
   "execution_count": 5,
   "id": "ebb4be19-496d-46ff-867c-cbdfd92406a5",
   "metadata": {},
   "outputs": [
    {
     "name": "stdout",
     "output_type": "stream",
     "text": [
      "['This', 'is', 'a', 'list', 'of', 5, 'numbers', 1, 2, 3, 4, 5]\n",
      "['This', 'is', 'a', 'list', 'of', 5, 'numbers', 1, 2, 3, 4, 5]\n"
     ]
    }
   ],
   "source": [
    "#deep copy\n",
    "d_copy = list1\n",
    "d_copy[6] = 'numbers'\n",
    "print(d_copy)\n",
    "print(list1)"
   ]
  },
  {
   "cell_type": "code",
   "execution_count": 6,
   "id": "c691fb77-3836-4568-8863-374f49161e50",
   "metadata": {},
   "outputs": [
    {
     "name": "stdout",
     "output_type": "stream",
     "text": [
      "True\n"
     ]
    }
   ],
   "source": [
    "print('This' in list1)"
   ]
  },
  {
   "cell_type": "code",
   "execution_count": 7,
   "id": "4825de47-e430-431b-846a-e87504a629f3",
   "metadata": {},
   "outputs": [
    {
     "name": "stdout",
     "output_type": "stream",
     "text": [
      "['This', 'is', 'a', 'list', 'of', 5, 'numbers', 1, 2, 3, 4, 5, '.']\n"
     ]
    }
   ],
   "source": [
    "print(list1 + [\".\"])"
   ]
  },
  {
   "cell_type": "code",
   "execution_count": 8,
   "id": "8a7af689-490b-41c6-b55e-24bdb0cd4e0c",
   "metadata": {},
   "outputs": [
    {
     "name": "stdout",
     "output_type": "stream",
     "text": [
      "None\n",
      "None\n",
      "['This', 'is', 'a', 'list', 'of', 5, 'numbers', 1, 2, 3, 4, 5, ['appended list'], 'extended list']\n"
     ]
    }
   ],
   "source": [
    "appended_list = list1.append(['appended list'])\n",
    "extended_list = list1.extend(['extended list'])\n",
    "print(appended_list)\n",
    "print(extended_list)\n",
    "print(list1)"
   ]
  },
  {
   "cell_type": "code",
   "execution_count": 9,
   "id": "470e9494-eb19-49b4-b2f8-999fde83e90a",
   "metadata": {},
   "outputs": [
    {
     "name": "stdout",
     "output_type": "stream",
     "text": [
      "None\n",
      "None\n",
      "['This', 'is', 'a', 'list', 'of', 5, 'numbers', 1, 2, 3, 4, 5, ['appended list'], 'extended list', 'appended string', 'e', 'x', 't', 'e', 'n', 'd', 'e', 'd', ' ', 's', 't', 'r', 'i', 'n', 'g']\n"
     ]
    }
   ],
   "source": [
    "appended_list = list1.append('appended string')\n",
    "extended_list = list1.extend('extended string')\n",
    "print(appended_list)\n",
    "print(extended_list)\n",
    "print(list1)"
   ]
  },
  {
   "cell_type": "code",
   "execution_count": 10,
   "id": "3e99f771-4fca-45fe-9e8a-5ef54f9241ef",
   "metadata": {},
   "outputs": [
    {
     "name": "stdout",
     "output_type": "stream",
     "text": [
      "['This', 'is', 'a', 'list', 'of', 5, 'numbers', 1, 2, 3, 4, 5, ['appended list'], 'extended list', 'appended string']\n"
     ]
    }
   ],
   "source": [
    "del(list1[-15:])\n",
    "print(list1)"
   ]
  },
  {
   "cell_type": "code",
   "execution_count": 11,
   "id": "d9b1ca3d-85fa-4844-bdc5-5830c5221705",
   "metadata": {},
   "outputs": [
    {
     "name": "stdout",
     "output_type": "stream",
     "text": [
      "appended string\n"
     ]
    }
   ],
   "source": [
    "print(list1.pop())"
   ]
  },
  {
   "cell_type": "code",
   "execution_count": 12,
   "id": "2312d890-36fb-4775-adcf-8420a2bdc8dc",
   "metadata": {},
   "outputs": [
    {
     "name": "stdout",
     "output_type": "stream",
     "text": [
      "['This', 'is', 'a', 'list', 'of', 5, 'numbers', 1, 2, 3, 4, 5, ['appended list'], 'extended list']\n"
     ]
    }
   ],
   "source": [
    "print(list1)"
   ]
  },
  {
   "cell_type": "code",
   "execution_count": 13,
   "id": "cc89e2ce-63ec-42e7-9ce5-d268987f73f8",
   "metadata": {},
   "outputs": [
    {
     "name": "stdout",
     "output_type": "stream",
     "text": [
      "['appended list']\n"
     ]
    }
   ],
   "source": [
    "print(list1.pop(-2))"
   ]
  },
  {
   "cell_type": "code",
   "execution_count": 14,
   "id": "5312fc17-937f-4776-960c-26c68c95d55a",
   "metadata": {},
   "outputs": [
    {
     "name": "stdout",
     "output_type": "stream",
     "text": [
      "['This', 'is', 'a', 'list', 'of', 5, 'numbers', 1, 2, 3, 4, 5, 'extended list']\n"
     ]
    }
   ],
   "source": [
    "print(list1)"
   ]
  },
  {
   "cell_type": "code",
   "execution_count": 15,
   "id": "50a604a4-e10c-4bb6-ac83-c874c72d4658",
   "metadata": {},
   "outputs": [
    {
     "name": "stdout",
     "output_type": "stream",
     "text": [
      "['This', 'is', 'a', 'list', 'of', 5, 'numbers', 1, 2, 3, 4, 5]\n"
     ]
    }
   ],
   "source": [
    "list1.remove('extended list')\n",
    "print(list1)"
   ]
  },
  {
   "cell_type": "code",
   "execution_count": 16,
   "id": "bdd19280-12b6-490a-8eb0-326612977f40",
   "metadata": {},
   "outputs": [
    {
     "name": "stdout",
     "output_type": "stream",
     "text": [
      "This is a list\n"
     ]
    }
   ],
   "source": [
    "str_list = list1[0:4]\n",
    "print(' '.join(str_list))"
   ]
  },
  {
   "cell_type": "code",
   "execution_count": 17,
   "id": "cc256cf9-dad2-44a9-a8d2-7523e7f1b4d9",
   "metadata": {},
   "outputs": [
    {
     "name": "stdout",
     "output_type": "stream",
     "text": [
      "[1, 2, 3, 4, 5]\n"
     ]
    }
   ],
   "source": [
    "int_list = list1[-5:]\n",
    "print(int_list)"
   ]
  },
  {
   "cell_type": "code",
   "execution_count": 18,
   "id": "7f2d22a4-edda-4a39-922c-d16b753db6bd",
   "metadata": {},
   "outputs": [
    {
     "name": "stdout",
     "output_type": "stream",
     "text": [
      "[5, 4, 3, 2, 1]\n"
     ]
    }
   ],
   "source": [
    "int_list.sort(reverse = True) #works only on list data structure\n",
    "print(int_list)"
   ]
  },
  {
   "cell_type": "code",
   "execution_count": 19,
   "id": "3fb0f508-0030-4bfd-ab6a-6a507203b991",
   "metadata": {},
   "outputs": [
    {
     "name": "stdout",
     "output_type": "stream",
     "text": [
      "[1, 2, 3, 4, 5]\n"
     ]
    }
   ],
   "source": [
    "sorted_list = sorted(int_list)\n",
    "print(sorted_list)"
   ]
  },
  {
   "cell_type": "markdown",
   "id": "9b3778de-ba23-46cb-8fd0-a1a2c3cdbc19",
   "metadata": {},
   "source": [
    "## Tuple (Immutable List)"
   ]
  },
  {
   "cell_type": "code",
   "execution_count": 20,
   "id": "cedbaa61-5b4a-4724-b86d-561ba833bf50",
   "metadata": {},
   "outputs": [
    {
     "name": "stdout",
     "output_type": "stream",
     "text": [
      "('This', 'is', 'a', 'tuple', 'of', 5, 'numbers', 1, 2, 3, 4, 5)\n"
     ]
    }
   ],
   "source": [
    "tuple1 = ('This', 'is', 'a', 'tuple', 'of', 5, 'numbers', 1, 2, 3, 4, 5)\n",
    "print(tuple1)"
   ]
  },
  {
   "cell_type": "code",
   "execution_count": 21,
   "id": "992be3db-06c6-4308-a07c-94e4674dd1e3",
   "metadata": {},
   "outputs": [
    {
     "name": "stdout",
     "output_type": "stream",
     "text": [
      "('This', 'is', 'a', 'tuple')\n"
     ]
    }
   ],
   "source": [
    "print(tuple1[0:4])"
   ]
  },
  {
   "cell_type": "code",
   "execution_count": 22,
   "id": "c6493934-0199-4ba3-a21b-5375e27cbad3",
   "metadata": {},
   "outputs": [],
   "source": [
    "# extended_tuple = tuple1.append(('extended')) \n",
    "# append. extend, add, remove will not work as tuple is immutable\n"
   ]
  },
  {
   "cell_type": "code",
   "execution_count": 23,
   "id": "7b9c5c88-f5a1-498f-901d-7f8549d14bce",
   "metadata": {},
   "outputs": [
    {
     "name": "stdout",
     "output_type": "stream",
     "text": [
      "This\n",
      "is\n",
      "a\n",
      "tuple\n"
     ]
    }
   ],
   "source": [
    "tuple1 = ('This', 'is', 'a', 'tuple') #packing\n",
    "(a,b,c,d) = tuple1 #unpacking\n",
    "print(a)\n",
    "print(b)\n",
    "print(c)\n",
    "print(d)"
   ]
  },
  {
   "cell_type": "markdown",
   "id": "d9993a61-4b27-4d42-b76a-9ae0b361cf83",
   "metadata": {},
   "source": [
    "## Sets"
   ]
  },
  {
   "cell_type": "code",
   "execution_count": 24,
   "id": "f944897d-1356-44d4-8311-a08e3b5daefd",
   "metadata": {},
   "outputs": [],
   "source": [
    "# mutable\n",
    "# unordered\n",
    "# allows no duplicate\n",
    "# faster performance during search"
   ]
  },
  {
   "cell_type": "code",
   "execution_count": 25,
   "id": "e8112807-ffc0-4613-9c48-c85cfb664ff3",
   "metadata": {},
   "outputs": [
    {
     "name": "stdout",
     "output_type": "stream",
     "text": [
      "{'This', 'a', 'is', 'set'}\n"
     ]
    }
   ],
   "source": [
    "set1 = { 'This', 'is', 'a', 'set' }\n",
    "print(set1)"
   ]
  },
  {
   "cell_type": "code",
   "execution_count": 26,
   "id": "4e56a93a-32f5-430d-872f-f96964da18b6",
   "metadata": {},
   "outputs": [
    {
     "name": "stdout",
     "output_type": "stream",
     "text": [
      "['This', 'a', 'is', 'set']\n"
     ]
    }
   ],
   "source": [
    "print(sorted(set1))"
   ]
  },
  {
   "cell_type": "code",
   "execution_count": 27,
   "id": "8988250e-62e2-400a-af54-198ab1590d40",
   "metadata": {},
   "outputs": [
    {
     "name": "stdout",
     "output_type": "stream",
     "text": [
      "{1, 2, 4, 6}\n",
      "[1, 2, 4, 6]\n"
     ]
    }
   ],
   "source": [
    "set2 = { 4, 2, 6, 1 } \n",
    "print(set2) #even this looks sorted, there may be chances, the order will always not be sorted on a normal set\n",
    "print(sorted(set2))"
   ]
  },
  {
   "cell_type": "code",
   "execution_count": 28,
   "id": "fc073a08-a060-4377-92be-efc9eb1eabc1",
   "metadata": {},
   "outputs": [
    {
     "name": "stdout",
     "output_type": "stream",
     "text": [
      "{1, 4, 6, 8}\n"
     ]
    }
   ],
   "source": [
    "set2.add(8)\n",
    "set2.remove(2)\n",
    "print(set2)"
   ]
  },
  {
   "cell_type": "code",
   "execution_count": 29,
   "id": "b887576b-73b7-4869-97ba-741520ed977a",
   "metadata": {},
   "outputs": [
    {
     "name": "stdout",
     "output_type": "stream",
     "text": [
      "Intersection :  {1, 3, 5, 7, 11}\n",
      "Union :  {1, 2, 3, 5, 7, 9, 11}\n",
      "Difference :  {2}\n",
      "Symmetric Difference :  {2, 9}\n"
     ]
    }
   ],
   "source": [
    "set3 = { 1, 2, 3, 5, 7, 11 }\n",
    "set4 = { 1, 3, 5, 7, 9, 11 }\n",
    "\n",
    "print('Intersection : ',  set3.intersection(set4))\n",
    "print('Union : ', set3.union(set4))\n",
    "print('Difference : ', set3.difference(set4))\n",
    "print('Symmetric Difference : ', set3.symmetric_difference(set4))"
   ]
  },
  {
   "cell_type": "code",
   "execution_count": 30,
   "id": "f5de5d5a-f256-427e-9eca-a39d37cf9573",
   "metadata": {},
   "outputs": [
    {
     "name": "stdout",
     "output_type": "stream",
     "text": [
      "{1, 3, 5, 7, 11}\n",
      "{1, 3, 5, 7, 9, 11}\n"
     ]
    }
   ],
   "source": [
    "set3 = { 1, 2, 3, 5, 7, 11 }\n",
    "set4 = { 1, 3, 5, 7, 9, 11 }\n",
    "set3.intersection_update(set4)\n",
    "print(set3)\n",
    "print(set4)"
   ]
  },
  {
   "cell_type": "code",
   "execution_count": 31,
   "id": "7439bfb9-e6ab-4876-b334-4c744f1e51fa",
   "metadata": {},
   "outputs": [
    {
     "name": "stdout",
     "output_type": "stream",
     "text": [
      "{1, 2, 3, 5, 7, 9, 11}\n",
      "{1, 3, 5, 7, 9, 11}\n"
     ]
    }
   ],
   "source": [
    "set3 = { 1, 2, 3, 5, 7, 11 }\n",
    "set4 = { 1, 3, 5, 7, 9, 11 }\n",
    "set3.update(set4)\n",
    "print(set3)\n",
    "print(set4)"
   ]
  },
  {
   "cell_type": "code",
   "execution_count": 32,
   "id": "71eeaba1-ba8d-43b1-88fe-5d0fc32e0f42",
   "metadata": {},
   "outputs": [
    {
     "name": "stdout",
     "output_type": "stream",
     "text": [
      "{2}\n",
      "{1, 3, 5, 7, 9, 11}\n"
     ]
    }
   ],
   "source": [
    "set3 = { 1, 2, 3, 5, 7, 11 }\n",
    "set4 = { 1, 3, 5, 7, 9, 11 }\n",
    "set3.difference_update(set4)\n",
    "print(set3)\n",
    "print(set4)"
   ]
  },
  {
   "cell_type": "code",
   "execution_count": 33,
   "id": "8f95aaff-07af-462c-baa8-51958cbfe31b",
   "metadata": {},
   "outputs": [
    {
     "name": "stdout",
     "output_type": "stream",
     "text": [
      "{2, 9}\n",
      "{1, 3, 5, 7, 9, 11}\n"
     ]
    }
   ],
   "source": [
    "set3 = { 1, 2, 3, 5, 7, 11 }\n",
    "set4 = { 1, 3, 5, 7, 9, 11 }\n",
    "set3.symmetric_difference_update(set4)\n",
    "print(set3)\n",
    "print(set4)"
   ]
  },
  {
   "cell_type": "code",
   "execution_count": 34,
   "id": "5a692c20-bd85-4ec9-b186-e3df75047592",
   "metadata": {},
   "outputs": [
    {
     "name": "stdout",
     "output_type": "stream",
     "text": [
      "False\n"
     ]
    }
   ],
   "source": [
    "set3 = { 1, 2, 3, 5, 7, 11 }\n",
    "set4 = { 1, 3, 5, 7, 9, 11 }\n",
    "print(set4.issubset(set3))"
   ]
  },
  {
   "cell_type": "markdown",
   "id": "48350871-a9c7-4afc-8c45-70953e83948d",
   "metadata": {},
   "source": [
    "## Dictionaries (key value pairs)"
   ]
  },
  {
   "cell_type": "code",
   "execution_count": 35,
   "id": "e3d53711-6348-441b-9551-1ed4a88ea3e5",
   "metadata": {},
   "outputs": [
    {
     "name": "stdout",
     "output_type": "stream",
     "text": [
      "dict_values(['test_string', ['This', 'is', 'a', 'list'], ('This', 'is', 'a', 'tuple'), {'This', 'a', 'is', 'set'}, {'This': 'is', 'a': 'dictionary'}])\n",
      "\n",
      "dict_keys(['string', 'list', 'tuple', 'set', 'dict'])\n",
      "\n",
      "dict_items([('string', 'test_string'), ('list', ['This', 'is', 'a', 'list']), ('tuple', ('This', 'is', 'a', 'tuple')), ('set', {'This', 'a', 'is', 'set'}), ('dict', {'This': 'is', 'a': 'dictionary'})])\n"
     ]
    }
   ],
   "source": [
    "dict1 = {\"string\": \"test_string\",\n",
    "         \"list\": [\"This\", \"is\", \"a\", \"list\"],\n",
    "         \"tuple\": (\"This\", \"is\", \"a\", \"tuple\"),\n",
    "         \"set\": {\"This\", \"is\", \"a\", \"set\"},\n",
    "         \"dict\": { \"This\" : \"is\", \"a\": \"dictionary\"}}\n",
    "print(dict1.values())\n",
    "print()\n",
    "print(dict1.keys())\n",
    "print()\n",
    "print(dict1.items())\n"
   ]
  },
  {
   "cell_type": "code",
   "execution_count": 36,
   "id": "ddf963f7-eb30-4719-8cfb-0ff373f31c1b",
   "metadata": {},
   "outputs": [
    {
     "name": "stdout",
     "output_type": "stream",
     "text": [
      "dict_items([('string', 'test_string'), ('list', ['This', 'is', 'a', 'list']), ('tuple', ('This', 'is', 'a', 'tuple')), ('set', {'This', 'a', 'is', 'set'}), ('dict', {'This': 'is', 'a': 'dictionary'}), ('int', 123)])\n",
      "\n",
      "dict_items([('string', 'test_string'), ('list', ['This', 'is', 'a', 'list']), ('tuple', ('This', 'is', 'a', 'tuple')), ('set', {'This', 'a', 'is', 'set'}), ('dict', {'This': 'is', 'a': 'dictionary'}), ('int', 456)])\n",
      "\n",
      "dict_items([('string', 'test_string'), ('list', ['This', 'is', 'a', 'list']), ('tuple', ('This', 'is', 'a', 'tuple')), ('set', {'This', 'a', 'is', 'set'}), ('dict', {'This': 'is', 'a': 'dictionary'}), ('int', 789)])\n",
      "\n",
      "dict_items([('string', 'test_string'), ('list', ['This', 'is', 'a', 'list']), ('tuple', ('This', 'is', 'a', 'tuple')), ('set', {'This', 'a', 'is', 'set'}), ('dict', {'This': 'is', 'a': 'dictionary'})])\n",
      "\n"
     ]
    }
   ],
   "source": [
    "dict1[\"int\"] = 123 #add\n",
    "print(dict1.items())\n",
    "print()\n",
    "\n",
    "dict1[\"int\"] = 456 #update\n",
    "print(dict1.items())\n",
    "print()\n",
    "\n",
    "dict1.update({\"int\": 789}) #update\n",
    "print(dict1.items())\n",
    "print()\n",
    "\n",
    "del dict1[\"int\"] # delete\n",
    "print(dict1.items())\n",
    "print()"
   ]
  },
  {
   "cell_type": "code",
   "execution_count": 37,
   "id": "b6eac1ec-df41-44f3-8883-7793bc31600c",
   "metadata": {},
   "outputs": [
    {
     "name": "stdout",
     "output_type": "stream",
     "text": [
      "[('dict', {'This': 'is', 'a': 'dictionary'}), ('list', ['This', 'is', 'a', 'list']), ('set', {'This', 'a', 'is', 'set'}), ('string', 'test_string'), ('tuple', ('This', 'is', 'a', 'tuple'))]\n"
     ]
    }
   ],
   "source": [
    "print(sorted(dict1.items()))"
   ]
  },
  {
   "cell_type": "code",
   "execution_count": null,
   "id": "6d1035aa-a0a0-4e18-bf83-b5c20f2344c4",
   "metadata": {},
   "outputs": [],
   "source": []
  }
 ],
 "metadata": {
  "kernelspec": {
   "display_name": "Python 3 (ipykernel)",
   "language": "python",
   "name": "python3"
  },
  "language_info": {
   "codemirror_mode": {
    "name": "ipython",
    "version": 3
   },
   "file_extension": ".py",
   "mimetype": "text/x-python",
   "name": "python",
   "nbconvert_exporter": "python",
   "pygments_lexer": "ipython3",
   "version": "3.12.7"
  }
 },
 "nbformat": 4,
 "nbformat_minor": 5
}
