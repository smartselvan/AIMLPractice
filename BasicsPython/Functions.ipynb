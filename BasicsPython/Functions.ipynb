{
 "cells": [
  {
   "cell_type": "markdown",
   "id": "291172d8-53ab-4e5f-aa89-7f38c1d59c65",
   "metadata": {},
   "source": [
    "## Functions"
   ]
  },
  {
   "cell_type": "code",
   "execution_count": 1,
   "id": "b68dc65f-0913-48ea-82f5-aacba4f93894",
   "metadata": {},
   "outputs": [
    {
     "name": "stdout",
     "output_type": "stream",
     "text": [
      "WELCOME\n"
     ]
    }
   ],
   "source": [
    "def toupper(x):\n",
    "    return x.upper()\n",
    "\n",
    "string1 = toupper(\"welcome\")\n",
    "print(string1)"
   ]
  },
  {
   "cell_type": "code",
   "execution_count": 2,
   "id": "17cad94b-106c-4b38-b2ac-07a0f157b3a4",
   "metadata": {},
   "outputs": [
    {
     "name": "stdout",
     "output_type": "stream",
     "text": [
      "<class 'int'>\n",
      "<class 'str'>\n",
      "<class 'set'>\n",
      "<class 'list'>\n",
      "<class 'dict'>\n"
     ]
    }
   ],
   "source": [
    "def argumental_function(* args):\n",
    "    for arg in args:\n",
    "        print(type(arg))\n",
    "\n",
    "argumental_function(1, 'test', {'check'}, [1, 2, 3], {'key': 'value'})"
   ]
  },
  {
   "cell_type": "code",
   "execution_count": 3,
   "id": "58a5ac05-c251-4743-9637-2b0aa92c9d4f",
   "metadata": {},
   "outputs": [
    {
     "name": "stdout",
     "output_type": "stream",
     "text": [
      "['THIS', 'IS', 'A', 'WELCOME', 'MESSAGE']\n",
      "['this', 'is', 'a', 'welcome', 'message']\n"
     ]
    }
   ],
   "source": [
    "list1 = [\"This\", \"is\", \"a\", \"welcome\", \"message\"]\n",
    "list2 = list(map(toupper, list1))\n",
    "print(list2)\n",
    "\n",
    "#lambda function\n",
    "list3 =list(map(lambda x: x.lower(), list1))\n",
    "print(list3)"
   ]
  }
 ],
 "metadata": {
  "kernelspec": {
   "display_name": "Python 3 (ipykernel)",
   "language": "python",
   "name": "python3"
  },
  "language_info": {
   "codemirror_mode": {
    "name": "ipython",
    "version": 3
   },
   "file_extension": ".py",
   "mimetype": "text/x-python",
   "name": "python",
   "nbconvert_exporter": "python",
   "pygments_lexer": "ipython3",
   "version": "3.12.7"
  }
 },
 "nbformat": 4,
 "nbformat_minor": 5
}
