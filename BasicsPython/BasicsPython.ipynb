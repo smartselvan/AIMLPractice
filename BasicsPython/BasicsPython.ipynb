{
 "cells": [
  {
   "cell_type": "markdown",
   "id": "3537e12d-c45a-4e9c-9d6c-206689eadc34",
   "metadata": {},
   "source": [
    "## Basics"
   ]
  },
  {
   "cell_type": "code",
   "execution_count": 1,
   "id": "d91a2917-1746-46a1-bac9-43e9c6a218d9",
   "metadata": {},
   "outputs": [
    {
     "name": "stdout",
     "output_type": "stream",
     "text": [
      "Hello world\n"
     ]
    }
   ],
   "source": [
    "print(\"Hello world\")"
   ]
  },
  {
   "cell_type": "code",
   "execution_count": 2,
   "id": "932a16ec-7996-46f4-a8dc-7a2ec140f048",
   "metadata": {},
   "outputs": [
    {
     "name": "stdout",
     "output_type": "stream",
     "text": [
      "<class 'str'>\n",
      "<class 'int'>\n",
      "<class 'float'>\n"
     ]
    }
   ],
   "source": [
    "string_var = \"Hi\"\n",
    "int_var = 123\n",
    "float_var = 1.23\n",
    "print(type(string_var))\n",
    "print(type(int_var))\n",
    "print(type(float_var))"
   ]
  },
  {
   "cell_type": "code",
   "execution_count": 3,
   "id": "dcc38ce8-2b70-4623-94cd-da3626f778f3",
   "metadata": {},
   "outputs": [
    {
     "name": "stdout",
     "output_type": "stream",
     "text": [
      "<class 'int'>\n"
     ]
    }
   ],
   "source": [
    "num_str = \"123\"\n",
    "num_int = int(num_str) # casting\n",
    "print(type(num_int))"
   ]
  },
  {
   "cell_type": "code",
   "execution_count": 4,
   "id": "24f9d7ba-9bf0-4dc3-b80f-bc31b0b237a8",
   "metadata": {},
   "outputs": [
    {
     "name": "stdout",
     "output_type": "stream",
     "text": [
      "T\n",
      ".\n",
      "This \n",
      "text\n",
      "This \n",
      "text.\n",
      "Ti satx\n"
     ]
    }
   ],
   "source": [
    "# slicing\n",
    "text = \"This is a text.\"\n",
    "print(text[0])\n",
    "print(text[-1])\n",
    "print(text[0:5])\n",
    "print(text[-5:-1])\n",
    "print(text[:5])\n",
    "print(text[-5:])\n",
    "print(text[0:-1:2]) # with skip step"
   ]
  },
  {
   "cell_type": "code",
   "execution_count": 5,
   "id": "fcd2744a-fc97-4b73-8a9f-f4e6acbaa548",
   "metadata": {},
   "outputs": [
    {
     "name": "stdout",
     "output_type": "stream",
     "text": [
      "True\n"
     ]
    }
   ],
   "source": [
    "print(\"is\" in text)"
   ]
  },
  {
   "cell_type": "code",
   "execution_count": 6,
   "id": "63d74d95-2b94-4594-8e72-9b10c46c5b40",
   "metadata": {},
   "outputs": [
    {
     "name": "stdout",
     "output_type": "stream",
     "text": [
      "THIS IS A TEXT.\n",
      "this is a text.\n",
      "This is a text.\n",
      "This is a text.\n",
      "This is a text.\n",
      "2\n"
     ]
    }
   ],
   "source": [
    "print(text.upper())\n",
    "print(text.lower())\n",
    "print(text.strip())\n",
    "print(text.lstrip())\n",
    "print(text.rstrip())\n",
    "print(text.count('is'))"
   ]
  },
  {
   "cell_type": "code",
   "execution_count": 7,
   "id": "fcf6d43f-1633-4989-a797-d0976312db87",
   "metadata": {},
   "outputs": [
    {
     "name": "stdout",
     "output_type": "stream",
     "text": [
      "Data Analysis by Selva\n",
      "Data Analysis by Selva\n"
     ]
    }
   ],
   "source": [
    "#formatting\n",
    "\n",
    "A = \"Data\"\n",
    "B = \"Analysis\"\n",
    "C = \"Selva\"\n",
    "\n",
    "print(A, B, \"by\", C)\n",
    "print(\"{0} {1} by {2}\".format(A,B,C))"
   ]
  },
  {
   "cell_type": "code",
   "execution_count": null,
   "id": "6280a953-52f4-44fd-93e7-a433fb80ed7c",
   "metadata": {},
   "outputs": [],
   "source": []
  }
 ],
 "metadata": {
  "kernelspec": {
   "display_name": "Python 3 (ipykernel)",
   "language": "python",
   "name": "python3"
  },
  "language_info": {
   "codemirror_mode": {
    "name": "ipython",
    "version": 3
   },
   "file_extension": ".py",
   "mimetype": "text/x-python",
   "name": "python",
   "nbconvert_exporter": "python",
   "pygments_lexer": "ipython3",
   "version": "3.12.7"
  }
 },
 "nbformat": 4,
 "nbformat_minor": 5
}
