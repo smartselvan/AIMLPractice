{
 "cells": [
  {
   "cell_type": "code",
   "execution_count": 1,
   "id": "43ba850d-3eeb-462e-9dd5-27ddbcbefc36",
   "metadata": {},
   "outputs": [],
   "source": [
    "#pip install numpy"
   ]
  },
  {
   "cell_type": "code",
   "execution_count": 2,
   "id": "dd17de98-ea1c-41f9-a303-1a06fe393322",
   "metadata": {},
   "outputs": [],
   "source": [
    "import numpy as np"
   ]
  },
  {
   "cell_type": "code",
   "execution_count": 3,
   "id": "1c71a06a-ad0c-4e4f-96d7-b4b172504dc4",
   "metadata": {},
   "outputs": [],
   "source": [
    "np_array = np.array([1, 2, 3, 4, 5])"
   ]
  },
  {
   "cell_type": "code",
   "execution_count": 4,
   "id": "ce5e4521-1ba0-476d-9e8f-81e44d80681d",
   "metadata": {},
   "outputs": [
    {
     "data": {
      "text/plain": [
       "5"
      ]
     },
     "execution_count": 4,
     "metadata": {},
     "output_type": "execute_result"
    }
   ],
   "source": [
    "len(np_array)"
   ]
  },
  {
   "cell_type": "code",
   "execution_count": 5,
   "id": "84af26bb-4426-48ab-bc9c-ca63d46dc728",
   "metadata": {},
   "outputs": [
    {
     "data": {
      "text/plain": [
       "5"
      ]
     },
     "execution_count": 5,
     "metadata": {},
     "output_type": "execute_result"
    }
   ],
   "source": [
    "np_array.size"
   ]
  },
  {
   "cell_type": "code",
   "execution_count": 6,
   "id": "599f2e35-6b47-45d3-b4c5-c81f03ad9b71",
   "metadata": {},
   "outputs": [
    {
     "data": {
      "text/plain": [
       "(5,)"
      ]
     },
     "execution_count": 6,
     "metadata": {},
     "output_type": "execute_result"
    }
   ],
   "source": [
    "np_array.shape"
   ]
  },
  {
   "cell_type": "code",
   "execution_count": 7,
   "id": "5fde5cda-2d69-4345-b49a-c5be9d146c64",
   "metadata": {},
   "outputs": [
    {
     "data": {
      "text/plain": [
       "array([ 5, 10, 15, 20, 25])"
      ]
     },
     "execution_count": 7,
     "metadata": {},
     "output_type": "execute_result"
    }
   ],
   "source": [
    "np_array = np_array * 5\n",
    "np_array"
   ]
  },
  {
   "cell_type": "code",
   "execution_count": 8,
   "id": "4fae2325-d1b5-42a5-9924-95a4b06f1ca0",
   "metadata": {},
   "outputs": [
    {
     "data": {
      "text/plain": [
       "5"
      ]
     },
     "execution_count": 8,
     "metadata": {},
     "output_type": "execute_result"
    }
   ],
   "source": [
    "np_array[0]"
   ]
  },
  {
   "cell_type": "code",
   "execution_count": 9,
   "id": "d125d579-0031-43cd-935d-6a6d558160f5",
   "metadata": {},
   "outputs": [
    {
     "data": {
      "text/plain": [
       "25"
      ]
     },
     "execution_count": 9,
     "metadata": {},
     "output_type": "execute_result"
    }
   ],
   "source": [
    "np_array[-1]"
   ]
  },
  {
   "cell_type": "code",
   "execution_count": 10,
   "id": "ff8622ba-ed02-4ffb-ac42-e2d0df75480f",
   "metadata": {},
   "outputs": [
    {
     "data": {
      "text/plain": [
       "array([ 5, 10, 15])"
      ]
     },
     "execution_count": 10,
     "metadata": {},
     "output_type": "execute_result"
    }
   ],
   "source": [
    "np_array[0:3]"
   ]
  },
  {
   "cell_type": "code",
   "execution_count": 11,
   "id": "fc6ba06c-0112-4ae3-ba8c-fed1f55b4550",
   "metadata": {},
   "outputs": [
    {
     "name": "stdout",
     "output_type": "stream",
     "text": [
      "[ 5 10]\n",
      "[15 20 25]\n"
     ]
    }
   ],
   "source": [
    "print(np_array[:2])\n",
    "print(np_array[2:])"
   ]
  },
  {
   "cell_type": "code",
   "execution_count": 12,
   "id": "7a38d930-4eee-4b2d-9b3b-7bd4879edd3b",
   "metadata": {},
   "outputs": [
    {
     "data": {
      "text/plain": [
       "array([15, 20, 25])"
      ]
     },
     "execution_count": 12,
     "metadata": {},
     "output_type": "execute_result"
    }
   ],
   "source": [
    "np_array[np_array > 10]"
   ]
  },
  {
   "cell_type": "code",
   "execution_count": 13,
   "id": "49beca75-07f2-4f46-8f7d-17cc5d8f903a",
   "metadata": {},
   "outputs": [
    {
     "name": "stdout",
     "output_type": "stream",
     "text": [
      "25\n",
      "5\n",
      "5\n",
      "25\n",
      "15.0\n"
     ]
    }
   ],
   "source": [
    "print(max(np_array))\n",
    "print(min(np_array))\n",
    "print(np_array.min())\n",
    "print(np_array.max())\n",
    "print(np_array.mean())"
   ]
  },
  {
   "cell_type": "code",
   "execution_count": 14,
   "id": "3c902b3c-43db-4757-ba2d-065ca6fa585a",
   "metadata": {},
   "outputs": [
    {
     "data": {
      "text/plain": [
       "array([[ 72, 150],\n",
       "       [ 70, 140],\n",
       "       [ 79, 160]])"
      ]
     },
     "execution_count": 14,
     "metadata": {},
     "output_type": "execute_result"
    }
   ],
   "source": [
    "players_list = [(72, 150), (70, 140), (79, 160)]\n",
    "np_players = np.array(players_list)\n",
    "np_players"
   ]
  },
  {
   "cell_type": "code",
   "execution_count": 15,
   "id": "62394270-a884-4621-a8e0-76fae7642b0f",
   "metadata": {},
   "outputs": [
    {
     "data": {
      "text/plain": [
       "(3, 2)"
      ]
     },
     "execution_count": 15,
     "metadata": {},
     "output_type": "execute_result"
    }
   ],
   "source": [
    "np_players.shape"
   ]
  },
  {
   "cell_type": "code",
   "execution_count": 16,
   "id": "70b09753-acf0-463a-9ae8-828628eb23b4",
   "metadata": {},
   "outputs": [
    {
     "data": {
      "text/plain": [
       "array([[ 1.8288, 68.25  ],\n",
       "       [ 1.778 , 63.7   ],\n",
       "       [ 2.0066, 72.8   ]])"
      ]
     },
     "execution_count": 16,
     "metadata": {},
     "output_type": "execute_result"
    }
   ],
   "source": [
    "np_players_updated = np_players * [0.0254, 0.455]\n",
    "np_players_updated"
   ]
  },
  {
   "cell_type": "code",
   "execution_count": 17,
   "id": "633234ab-4bf3-4d6b-a1b5-364ca443bd05",
   "metadata": {},
   "outputs": [
    {
     "name": "stdout",
     "output_type": "stream",
     "text": [
      "[ 72 150]\n",
      "\n",
      "72\n",
      "\n",
      "[72 70 79]\n",
      "\n",
      "[ 72 150]\n"
     ]
    }
   ],
   "source": [
    "print(np_players[0]) # 1st row\n",
    "print()\n",
    "print(np_players[0, 0]) # 1st row, 1st column\n",
    "print()\n",
    "print(np_players[:, 0]) # column 1\n",
    "print()\n",
    "print(np_players[0, :]) # row 1"
   ]
  },
  {
   "cell_type": "code",
   "execution_count": 18,
   "id": "a5573312-49e4-45d8-b19a-3ce11b4838a7",
   "metadata": {},
   "outputs": [
    {
     "name": "stdout",
     "output_type": "stream",
     "text": [
      "[[ 72 150]]\n"
     ]
    }
   ],
   "source": [
    "np_skills = np.array(['batsman','bowler','all-rounder'])\n",
    "\n",
    "print(np_players[np_skills == 'batsman']) #conditional fetching"
   ]
  },
  {
   "cell_type": "code",
   "execution_count": 19,
   "id": "114500a3-920d-4a2f-8253-09521542e30b",
   "metadata": {},
   "outputs": [
    {
     "name": "stdout",
     "output_type": "stream",
     "text": [
      "ones\n",
      "[1 1 1 1 1]\n",
      "\n",
      "zeros\n",
      "[0 0 0 0 0]\n",
      "\n",
      "random rand\n",
      "[0.29909591 0.04486694 0.58145964 0.64961898 0.36326514]\n",
      "\n",
      "random randint\n",
      "[2 4 4 3 3]\n",
      "\n",
      "full\n",
      "[4 4 4 4 4]\n",
      "\n",
      "linspace\n",
      "[ 5.    6.25  7.5   8.75 10.  ]\n",
      "\n",
      "arange\n",
      "[0 1 2 3 4]\n"
     ]
    }
   ],
   "source": [
    "#creating 1D arrays\n",
    "print('ones')\n",
    "arr1 = np.ones(5, dtype = 'int')\n",
    "print(arr1)\n",
    "print()\n",
    "print('zeros')\n",
    "arr1 = np.zeros(5, dtype = 'int')\n",
    "print(arr1)\n",
    "print()\n",
    "print('random rand')\n",
    "arr1 = np.random.rand(5)\n",
    "print(arr1)\n",
    "print()\n",
    "print('random randint')\n",
    "arr1 = np.random.randint(2, 5, 5) #(uperbound, lowerbound, size)\n",
    "print(arr1)\n",
    "print()\n",
    "print('full')\n",
    "arr1 = np.full(5, 4)\n",
    "print(arr1)\n",
    "print()\n",
    "print('linspace')\n",
    "arr1 = np.linspace(5, 10, 5)\n",
    "print(arr1)\n",
    "print()\n",
    "print('arange')\n",
    "arr1 = np.arange(5)\n",
    "print(arr1)"
   ]
  },
  {
   "cell_type": "code",
   "execution_count": 25,
   "id": "8f687cba-9a66-4546-a64b-7fcd714ffd45",
   "metadata": {},
   "outputs": [
    {
     "name": "stdout",
     "output_type": "stream",
     "text": [
      "ones\n",
      "[[1 1 1 1 1]\n",
      " [1 1 1 1 1]\n",
      " [1 1 1 1 1]]\n",
      "\n",
      "zeros\n",
      "[[0 0 0 0 0]\n",
      " [0 0 0 0 0]\n",
      " [0 0 0 0 0]]\n",
      "\n",
      "random rand\n",
      "[[0.34259773 0.25033435 0.87731515 0.27244622 0.51421013]\n",
      " [0.15647962 0.16907758 0.01760709 0.09596159 0.1432738 ]\n",
      " [0.89884176 0.6791085  0.82940111 0.49183099 0.70577355]]\n",
      "\n",
      "random randint\n",
      "[[3 2 2 3 3]\n",
      " [3 4 4 2 3]\n",
      " [3 3 3 3 3]]\n",
      "\n",
      "full\n",
      "[[4 4 4 4 4]\n",
      " [4 4 4 4 4]\n",
      " [4 4 4 4 4]]\n",
      "\n",
      "linspace\n"
     ]
    },
    {
     "ename": "TypeError",
     "evalue": "'tuple' object cannot be interpreted as an integer",
     "output_type": "error",
     "traceback": [
      "\u001b[1;31m---------------------------------------------------------------------------\u001b[0m",
      "\u001b[1;31mTypeError\u001b[0m                                 Traceback (most recent call last)",
      "Cell \u001b[1;32mIn[25], line 23\u001b[0m\n\u001b[0;32m     21\u001b[0m \u001b[38;5;28mprint\u001b[39m()\n\u001b[0;32m     22\u001b[0m \u001b[38;5;28mprint\u001b[39m(\u001b[38;5;124m'\u001b[39m\u001b[38;5;124mlinspace\u001b[39m\u001b[38;5;124m'\u001b[39m)\n\u001b[1;32m---> 23\u001b[0m arr1 \u001b[38;5;241m=\u001b[39m np\u001b[38;5;241m.\u001b[39mlinspace(\u001b[38;5;241m5\u001b[39m, \u001b[38;5;241m10\u001b[39m, (\u001b[38;5;241m3\u001b[39m,\u001b[38;5;241m5\u001b[39m))\n\u001b[0;32m     24\u001b[0m \u001b[38;5;28mprint\u001b[39m(arr1)\n\u001b[0;32m     25\u001b[0m \u001b[38;5;28mprint\u001b[39m()\n",
      "File \u001b[1;32m~\\anaconda3\\Lib\\site-packages\\numpy\\core\\function_base.py:122\u001b[0m, in \u001b[0;36mlinspace\u001b[1;34m(start, stop, num, endpoint, retstep, dtype, axis)\u001b[0m\n\u001b[0;32m     24\u001b[0m \u001b[38;5;129m@array_function_dispatch\u001b[39m(_linspace_dispatcher)\n\u001b[0;32m     25\u001b[0m \u001b[38;5;28;01mdef\u001b[39;00m \u001b[38;5;21mlinspace\u001b[39m(start, stop, num\u001b[38;5;241m=\u001b[39m\u001b[38;5;241m50\u001b[39m, endpoint\u001b[38;5;241m=\u001b[39m\u001b[38;5;28;01mTrue\u001b[39;00m, retstep\u001b[38;5;241m=\u001b[39m\u001b[38;5;28;01mFalse\u001b[39;00m, dtype\u001b[38;5;241m=\u001b[39m\u001b[38;5;28;01mNone\u001b[39;00m,\n\u001b[0;32m     26\u001b[0m              axis\u001b[38;5;241m=\u001b[39m\u001b[38;5;241m0\u001b[39m):\n\u001b[0;32m     27\u001b[0m \u001b[38;5;250m    \u001b[39m\u001b[38;5;124;03m\"\"\"\u001b[39;00m\n\u001b[0;32m     28\u001b[0m \u001b[38;5;124;03m    Return evenly spaced numbers over a specified interval.\u001b[39;00m\n\u001b[0;32m     29\u001b[0m \n\u001b[1;32m   (...)\u001b[0m\n\u001b[0;32m    120\u001b[0m \n\u001b[0;32m    121\u001b[0m \u001b[38;5;124;03m    \"\"\"\u001b[39;00m\n\u001b[1;32m--> 122\u001b[0m     num \u001b[38;5;241m=\u001b[39m operator\u001b[38;5;241m.\u001b[39mindex(num)\n\u001b[0;32m    123\u001b[0m     \u001b[38;5;28;01mif\u001b[39;00m num \u001b[38;5;241m<\u001b[39m \u001b[38;5;241m0\u001b[39m:\n\u001b[0;32m    124\u001b[0m         \u001b[38;5;28;01mraise\u001b[39;00m \u001b[38;5;167;01mValueError\u001b[39;00m(\u001b[38;5;124m\"\u001b[39m\u001b[38;5;124mNumber of samples, \u001b[39m\u001b[38;5;132;01m%s\u001b[39;00m\u001b[38;5;124m, must be non-negative.\u001b[39m\u001b[38;5;124m\"\u001b[39m \u001b[38;5;241m%\u001b[39m num)\n",
      "\u001b[1;31mTypeError\u001b[0m: 'tuple' object cannot be interpreted as an integer"
     ]
    }
   ],
   "source": [
    "#creating 2D arrays\n",
    "print('ones')\n",
    "arr1 = np.ones((3,5), dtype = 'int')\n",
    "print(arr1)\n",
    "print()\n",
    "print('zeros')\n",
    "arr1 = np.zeros((3,5), dtype = 'int')\n",
    "print(arr1)\n",
    "print()\n",
    "print('random rand')\n",
    "arr1 = np.random.rand(3,5)\n",
    "print(arr1)\n",
    "print()\n",
    "print('random randint')\n",
    "arr1 = np.random.randint(2, 5, (3,5)) #(uperbound, lowerbound, size)\n",
    "print(arr1)\n",
    "print()\n",
    "print('full')\n",
    "arr1 = np.full((3,5), 4)\n",
    "print(arr1)\n",
    "print()\n",
    "print('linspace')\n",
    "arr1 = np.linspace(5, 10, 12)\n",
    "print(arr1)\n",
    "print()\n",
    "print('arange')\n",
    "arr1 = np.arange(12)\n",
    "# Reshape it into a 2D array with 3 rows and 4 columns\n",
    "arr1 = arr1.reshape(3, 4)\n",
    "print(arr1)\n",
    "print()"
   ]
  },
  {
   "cell_type": "code",
   "execution_count": 20,
   "id": "3a63ac16-034e-4cdb-9f34-0bedb59f43a9",
   "metadata": {},
   "outputs": [
    {
     "name": "stdout",
     "output_type": "stream",
     "text": [
      "H Stack:\n",
      "[1 2 3 4 5 6]\n",
      "\n",
      "V Stack:\n",
      "[[1 2 3]\n",
      " [4 5 6]]\n"
     ]
    }
   ],
   "source": [
    "a = np.array([1, 2, 3])\n",
    "b = np.array([4, 5, 6])\n",
    "print('H Stack:')\n",
    "print(np.hstack((a,b)))\n",
    "print()\n",
    "print('V Stack:')\n",
    "print(np.vstack((a,b)))"
   ]
  },
  {
   "cell_type": "code",
   "execution_count": 21,
   "id": "5f3c5684-259a-4a17-b9a9-02639d067edf",
   "metadata": {},
   "outputs": [
    {
     "name": "stdout",
     "output_type": "stream",
     "text": [
      "[[1 4]\n",
      " [2 5]\n",
      " [3 6]]\n"
     ]
    }
   ],
   "source": [
    "print(np.transpose(np.vstack((a,b))))"
   ]
  },
  {
   "cell_type": "code",
   "execution_count": 22,
   "id": "bdcaad55-4a90-4e04-bb6a-c76ed90ec1df",
   "metadata": {},
   "outputs": [
    {
     "name": "stdout",
     "output_type": "stream",
     "text": [
      "[[1 2 3]\n",
      " [4 5 6]]\n",
      "\n",
      "[[1 2]\n",
      " [3 4]\n",
      " [5 6]]\n"
     ]
    }
   ],
   "source": [
    "print((np.vstack((a,b))).reshape(2, 3))\n",
    "print()\n",
    "print((np.vstack((a,b))).reshape(3, 2))"
   ]
  },
  {
   "cell_type": "code",
   "execution_count": null,
   "id": "b681fa90-f969-4508-b164-a095b5eece8f",
   "metadata": {},
   "outputs": [],
   "source": []
  }
 ],
 "metadata": {
  "kernelspec": {
   "display_name": "Python 3 (ipykernel)",
   "language": "python",
   "name": "python3"
  },
  "language_info": {
   "codemirror_mode": {
    "name": "ipython",
    "version": 3
   },
   "file_extension": ".py",
   "mimetype": "text/x-python",
   "name": "python",
   "nbconvert_exporter": "python",
   "pygments_lexer": "ipython3",
   "version": "3.12.7"
  }
 },
 "nbformat": 4,
 "nbformat_minor": 5
}
